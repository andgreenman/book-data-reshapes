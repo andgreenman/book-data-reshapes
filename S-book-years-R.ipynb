{
 "cells": [
  {
   "cell_type": "markdown",
   "id": "d787e4a2-cbf4-410f-8a81-37240cecea47",
   "metadata": {},
   "source": [
    "# What Am I Doing Here?\n",
    "This is an attempt to automate the process of cleaning, resampling, and visualizing data my colleague SH needs to do periodically. It is currently done in Excel with pivot tables, and this is sufficient, but I am doing this as an exercise more than a useful tool.\n",
    "\n",
    "This is the R version of the script, which is a fairly new language to me, and I expect it will be messy."
   ]
  },
  {
   "cell_type": "code",
   "execution_count": 26,
   "id": "7e6ac99c-063f-40f7-8687-6cbd4f202f50",
   "metadata": {},
   "outputs": [
    {
     "name": "stderr",
     "output_type": "stream",
     "text": [
      "── \u001b[1mAttaching packages\u001b[22m ─────────────────────────────────────────────────────────────────────────────── tidyverse 1.3.2 ──\n",
      "\u001b[32m✔\u001b[39m \u001b[34mggplot2\u001b[39m 3.3.6      \u001b[32m✔\u001b[39m \u001b[34mpurrr  \u001b[39m 0.3.4 \n",
      "\u001b[32m✔\u001b[39m \u001b[34mtibble \u001b[39m 3.1.8      \u001b[32m✔\u001b[39m \u001b[34mdplyr  \u001b[39m 1.0.10\n",
      "\u001b[32m✔\u001b[39m \u001b[34mtidyr  \u001b[39m 1.2.1      \u001b[32m✔\u001b[39m \u001b[34mstringr\u001b[39m 1.4.1 \n",
      "\u001b[32m✔\u001b[39m \u001b[34mreadr  \u001b[39m 2.1.2      \u001b[32m✔\u001b[39m \u001b[34mforcats\u001b[39m 0.5.2 \n",
      "── \u001b[1mConflicts\u001b[22m ────────────────────────────────────────────────────────────────────────────────── tidyverse_conflicts() ──\n",
      "\u001b[31m✖\u001b[39m \u001b[34mdplyr\u001b[39m::\u001b[32mfilter()\u001b[39m masks \u001b[34mstats\u001b[39m::filter()\n",
      "\u001b[31m✖\u001b[39m \u001b[34mdplyr\u001b[39m::\u001b[32mlag()\u001b[39m    masks \u001b[34mstats\u001b[39m::lag()\n"
     ]
    }
   ],
   "source": [
    "library(tidyverse)"
   ]
  },
  {
   "cell_type": "code",
   "execution_count": 2,
   "id": "407b6dee-cf34-45bf-bc9d-1b11bc3b5fa7",
   "metadata": {},
   "outputs": [],
   "source": [
    "books <- read.csv(\"C:\\\\Users\\\\agreenman\\\\Documents\\\\data\\\\SH-raw-data.csv\")\n",
    "books <- books[-c(77), ] # the original data has an error in the Publication Date value in row 77 which I neglected to remove in the xlsx I received.\n",
    "books$Publication.Date <- as.numeric(as.character(books$Publication.Date))"
   ]
  },
  {
   "cell_type": "code",
   "execution_count": 14,
   "id": "8cea381a-c7ae-4ace-82cd-0506501dc65d",
   "metadata": {},
   "outputs": [],
   "source": [
    "#str(books)"
   ]
  },
  {
   "cell_type": "markdown",
   "id": "8c2df6f3-96fa-4fee-a25d-37fdcf70838b",
   "metadata": {},
   "source": [
    "This is the equivalent of what I did in Python, which is returning the number of books that meet a condition as a variable and then settig up a new df with those counts. I'm hoping there's another way to do this that automatically resamples the data into the same or another df, so I don't have to manually create anything."
   ]
  },
  {
   "cell_type": "code",
   "execution_count": 19,
   "id": "123221e2-0323-46a9-85ad-b9f701665191",
   "metadata": {},
   "outputs": [
    {
     "name": "stdout",
     "output_type": "stream",
     "text": [
      "  time_period counts\n",
      "1       1900s     15\n",
      "2       2000s     45\n",
      "3       2010+     16\n"
     ]
    }
   ],
   "source": [
    "old_books <- length(which(books$Publication.Date < 2000))\n",
    "middle_books <- length(which(books$Publication.Date > 1999 & books$Publication.Date < 2010))\n",
    "new_books <- length(which(books$Publication.Date > 2009))\n",
    "\n",
    "#print(old_books)\n",
    "#print(middle_books)\n",
    "#print(new_books)\n",
    "\n",
    "time_period <- c(\"1900s\", \"2000s\", \"2010+\")\n",
    "counts <- c(old_books, middle_books, new_books)\n",
    "\n",
    "reshaped <- data.frame(time_period, counts)\n",
    "print(reshaped)"
   ]
  },
  {
   "cell_type": "markdown",
   "id": "9c55ec6e-cafb-44b6-9229-64d1035cd732",
   "metadata": {},
   "source": [
    "Applying a transform to the column that either uses a modulo or round(data, -1) will floor to decade. Can I do a conditional transform with > <?"
   ]
  },
  {
   "cell_type": "code",
   "execution_count": null,
   "id": "6bb33854-6189-4e22-992b-ffb030856509",
   "metadata": {},
   "outputs": [],
   "source": []
  },
  {
   "cell_type": "markdown",
   "id": "3233acc2-cc2d-4d1f-bb88-67acf266feaf",
   "metadata": {},
   "source": [
    "Visualizing with ggplot2 below: shooting for the same horizontal bar chart I did in matplotlib."
   ]
  },
  {
   "cell_type": "code",
   "execution_count": 32,
   "id": "fe63acc2-6a44-4b92-ac35-2c3dbc19fed5",
   "metadata": {},
   "outputs": [
    {
     "data": {
      "image/png": "[encoded data removed]",
      "text/plain": [
       "plot without title"
      ]
     },
     "metadata": {
      "image/png": {
       "height": 420,
       "width": 420
      }
     },
     "output_type": "display_data"
    }
   ],
   "source": [
    "BLUE <- \"#076fa2\"\n",
    "\n",
    "plot <- ggplot(reshaped) + geom_col(aes(counts, time_period), fill = BLUE, width = 0.6)\n",
    "\n",
    "plot"
   ]
  },
  {
   "cell_type": "markdown",
   "id": "858d8551-1489-44e2-84e4-4410022cb83f",
   "metadata": {},
   "source": [
    "Obviously this is a fugly plot and I would not leave it at this, but for the purposes of the exercise it matches my matplotlib plot well enough."
   ]
  }
 ],
 "metadata": {
  "kernelspec": {
   "display_name": "R",
   "language": "R",
   "name": "ir"
  },
  "language_info": {
   "codemirror_mode": "r",
   "file_extension": ".r",
   "mimetype": "text/x-r-source",
   "name": "R",
   "pygments_lexer": "r",
   "version": "4.2.1"
  }
 },
 "nbformat": 4,
 "nbformat_minor": 5
}
