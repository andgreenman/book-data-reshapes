{
 "cells": [
  {
   "cell_type": "markdown",
   "id": "9ab11a98-a71e-4984-909d-1f530fbb6adf",
   "metadata": {},
   "source": [
    "# What Am I Doing Here?\n",
    "This is an attempt to automate the process of cleaning, resampling, and visualizing data my colleague SH needs to do periodically. It is currently done in Excel with pivot tables, and this is sufficient, but I am doing this as an exercise than a useful tool.\n",
    "\n",
    "This is the Python version of the script, which I am writing first to get an idea of the logic I want before I try to replicate the functionality in R as a learning process."
   ]
  },
  {
   "cell_type": "code",
   "execution_count": 48,
   "id": "a37b5c85-f7f0-4697-95ef-9d8cd9f01d13",
   "metadata": {},
   "outputs": [],
   "source": [
    "import os\n",
    "import datetime\n",
    "import pandas as pd\n",
    "import matplotlib as plt"
   ]
  },
  {
   "cell_type": "code",
   "execution_count": 70,
   "id": "2f9e9630-99ff-4599-b91c-48c7d741e7f2",
   "metadata": {},
   "outputs": [
    {
     "name": "stdout",
     "output_type": "stream",
     "text": [
      "<class 'pandas.core.frame.DataFrame'>\n",
      "RangeIndex: 77 entries, 0 to 76\n",
      "Data columns (total 3 columns):\n",
      " #   Column            Non-Null Count  Dtype \n",
      "---  ------            --------------  ----- \n",
      " 0   RECORD #          77 non-null     object\n",
      " 1   Publication Date  77 non-null     object\n",
      " 2   TITLE             77 non-null     object\n",
      "dtypes: object(3)\n",
      "memory usage: 1.9+ KB\n",
      "    RECORD # Publication Date  \\\n",
      "0  b87742792             1958   \n",
      "\n",
      "                                               TITLE  \n",
      "0  The almanac of the canning, freezing, preservi...  \n"
     ]
    }
   ],
   "source": [
    "books = pd.read_csv(r'C:\\Users\\agreenman\\Documents\\data\\SH-raw-data.csv')\n",
    "\n",
    "#books.info()\n",
    "#print(books.head(5))"
   ]
  },
  {
   "cell_type": "markdown",
   "id": "174fe9fc-5d9d-46ee-b596-94593e9fa67c",
   "metadata": {},
   "source": [
    "I don't *need* to keep it as a df; as far as I know, as the title and record number are irrelevant to the task. What I need at the end is two columns, timespan and count."
   ]
  },
  {
   "cell_type": "code",
   "execution_count": 78,
   "id": "6a04d41b-ca7b-45a7-ad5e-7d489c693bb4",
   "metadata": {},
   "outputs": [],
   "source": [
    "years_list = books['Publication Date'].tolist()\n",
    "\n",
    "years_list = [year for year in years_list if year.isdigit()] # the original data has an error in the Publication Date value in row 77 which I neglected to remove in the xlsx I received."
   ]
  },
  {
   "cell_type": "markdown",
   "id": "5c640ca7-5cfa-441d-8a97-a88e0c765322",
   "metadata": {},
   "source": [
    "I could probably do the following in less lines by using a list comprehension for each condition and then doing len(list) for the total, but an if statement came to mind faster."
   ]
  },
  {
   "cell_type": "code",
   "execution_count": 74,
   "id": "f2f06c6b-02b7-4c3d-9f7c-39afc064f409",
   "metadata": {},
   "outputs": [],
   "source": [
    "old_books = 0\n",
    "middle_books = 0\n",
    "new_books = 0\n",
    "\n",
    "for year in years_list:\n",
    "    if int(year) <= 1999:\n",
    "        old_books += 1\n",
    "    elif 2000 <= int(year) < 2010:\n",
    "        middle_books += 1\n",
    "    elif int(year) >= 2010:\n",
    "        new_books += 1\n",
    "        \n",
    "#print(old_books, middle_books, new_books)\n",
    "\n",
    "grouped = [(\"1900s\", old_books), (\"2000s\", middle_books), (\"2010s+\", new_books)]\n",
    "\n",
    "#print(grouped)"
   ]
  },
  {
   "cell_type": "markdown",
   "id": "173fd082-17db-411a-8830-406a5c0ac820",
   "metadata": {},
   "source": [
    "I represented this as a list of tuples instead of a dict to keep it ordered, because dict-to-df causes indexing headaches. I probably could have kept it as a df, but I wasn't sure how to resample by a value in a column.\n",
    "\n",
    "I can now turn it back into a df to help with visualizing it, and any math I want to do:"
   ]
  },
  {
   "cell_type": "code",
   "execution_count": 73,
   "id": "c9672ead-df89-4c35-8461-6e281145d0d9",
   "metadata": {},
   "outputs": [
    {
     "name": "stdout",
     "output_type": "stream",
     "text": [
      "  Time Period  Count\n",
      "0       1900s     15\n",
      "1       2000s     45\n",
      "2      2010s+     16\n"
     ]
    }
   ],
   "source": [
    "grouped_df = pd.DataFrame(grouped, columns=['Time Period', 'Count'])\n",
    "\n",
    "print(grouped_df)"
   ]
  },
  {
   "cell_type": "markdown",
   "id": "061c4e3d-b02b-4e74-9763-e740e99baf37",
   "metadata": {},
   "source": [
    "Now that I have the df I wanted, I can visualize it."
   ]
  },
  {
   "cell_type": "code",
   "execution_count": 77,
   "id": "63b0eeb7-3ce7-41e6-9aaa-0d9d57d57e8c",
   "metadata": {},
   "outputs": [
    {
     "data": {
      "image/png": "[encoded data removed]",
      "text/plain": [
       "<Figure size 432x288 with 1 Axes>"
      ]
     },
     "metadata": {
      "needs_background": "light"
     },
     "output_type": "display_data"
    }
   ],
   "source": [
    "books_plot = grouped_df.plot(kind='barh', x='Time Period', y='Count')"
   ]
  }
 ],
 "metadata": {
  "kernelspec": {
   "display_name": "Python 3 (ipykernel)",
   "language": "python",
   "name": "python3"
  },
  "language_info": {
   "codemirror_mode": {
    "name": "ipython",
    "version": 3
   },
   "file_extension": ".py",
   "mimetype": "text/x-python",
   "name": "python",
   "nbconvert_exporter": "python",
   "pygments_lexer": "ipython3",
   "version": "3.9.12"
  }
 },
 "nbformat": 4,
 "nbformat_minor": 5
}
